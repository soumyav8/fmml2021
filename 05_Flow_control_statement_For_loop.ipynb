{
  "nbformat": 4,
  "nbformat_minor": 0,
  "metadata": {
    "colab": {
      "name": "05_Flow_control_statement_For_loop.ipynb",
      "provenance": [],
      "include_colab_link": true
    },
    "kernelspec": {
      "name": "python3",
      "display_name": "Python 3"
    },
    "language_info": {
      "name": "python"
    }
  },
  "cells": [
    {
      "cell_type": "markdown",
      "metadata": {
        "id": "view-in-github",
        "colab_type": "text"
      },
      "source": [
        "<a href=\"https://colab.research.google.com/github/soumyav8/fmml2021/blob/main/05_Flow_control_statement_For_loop.ipynb\" target=\"_parent\"><img src=\"https://colab.research.google.com/assets/colab-badge.svg\" alt=\"Open In Colab\"/></a>"
      ]
    },
    {
      "cell_type": "markdown",
      "metadata": {
        "id": "61f388Jksnz-"
      },
      "source": [
        "### Flow control using for-loop\n",
        "#### 'For' statement is used for iterating over an arithmetic progression of numbers"
      ]
    },
    {
      "cell_type": "code",
      "metadata": {
        "id": "lHexb1UAseK6"
      },
      "source": [
        "# range\n",
        "for i in range(9, 19, 3):\n",
        "  print (i, end=\" \")"
      ],
      "execution_count": null,
      "outputs": []
    },
    {
      "cell_type": "markdown",
      "metadata": {
        "id": "avgXS5ante_t"
      },
      "source": [
        "#### 'For' statement is also used for iterating over the items of any sequence (a list or a string), in the order that they appear in the sequence."
      ]
    },
    {
      "cell_type": "code",
      "metadata": {
        "id": "8YRJCPP2vVPe"
      },
      "source": [
        "# list\n",
        "my_list = [1, 2, 3, 4]\n",
        "for each_item in my_list:\n",
        "  print (each_item, end=\" \")"
      ],
      "execution_count": null,
      "outputs": []
    },
    {
      "cell_type": "code",
      "metadata": {
        "id": "EIPO-Aab0fMk"
      },
      "source": [
        "my_list = ['a', 'e', 'i', 'o', 'u']\n"
      ],
      "execution_count": null,
      "outputs": []
    },
    {
      "cell_type": "code",
      "metadata": {
        "id": "lWRcH-oE0nr6"
      },
      "source": [
        "test_char = input(\"Enter Character: \")"
      ],
      "execution_count": null,
      "outputs": []
    },
    {
      "cell_type": "code",
      "metadata": {
        "id": "29kLJv6-0xfe"
      },
      "source": [
        "test_result = 'consonant'\n",
        "for each_char in my_list:\n",
        "  if (each_char == test_char.lower()):\n",
        "    test_result = 'vowel'\n",
        "    break"
      ],
      "execution_count": null,
      "outputs": []
    },
    {
      "cell_type": "code",
      "metadata": {
        "id": "FXsvQh-C1C-m"
      },
      "source": [
        "print (test_result)"
      ],
      "execution_count": null,
      "outputs": []
    },
    {
      "cell_type": "code",
      "metadata": {
        "id": "bStyS27cudqK"
      },
      "source": [
        "# list comprehension\n",
        "# create a list of all odd numbers from 1 to 20\n",
        "my_list = [number for number in range(1,20,2)]"
      ],
      "execution_count": null,
      "outputs": []
    },
    {
      "cell_type": "code",
      "metadata": {
        "id": "IbKt_IhW6Z4z"
      },
      "source": [
        "my_list"
      ],
      "execution_count": null,
      "outputs": []
    },
    {
      "cell_type": "code",
      "metadata": {
        "id": "1G1IBIr6p6b6"
      },
      "source": [
        "# list comprehension - another approach using \"if\" condition\n",
        "# create a list of all odd numbers from 1 to 20\n",
        "my_list = [number for number in range(1,20) if (number % 2 == 1)]"
      ],
      "execution_count": null,
      "outputs": []
    },
    {
      "cell_type": "code",
      "metadata": {
        "id": "ahswgAU_qBVR"
      },
      "source": [
        "my_list"
      ],
      "execution_count": null,
      "outputs": []
    },
    {
      "cell_type": "markdown",
      "metadata": {
        "id": "aZLHbgPMujrA"
      },
      "source": [
        "#### Exercise: Given a list of integers, write a for-loop to create a list of its squares."
      ]
    },
    {
      "cell_type": "code",
      "metadata": {
        "id": "2Kw7G5iCumaY",
        "outputId": "4eacef50-cd29-487b-a8e1-f456881d080c",
        "colab": {
          "base_uri": "https://localhost:8080/"
        }
      },
      "source": [
        "x = [1,2,3,4,5]\n",
        "for i in x:\n",
        "  print(i**2)\n",
        " "
      ],
      "execution_count": 1,
      "outputs": [
        {
          "output_type": "stream",
          "name": "stdout",
          "text": [
            "1\n",
            "4\n",
            "9\n",
            "16\n",
            "25\n"
          ]
        }
      ]
    },
    {
      "cell_type": "markdown",
      "metadata": {
        "id": "vqYJMprj-beV"
      },
      "source": [
        "Reference:\n",
        "[Python Documentation on Control Statements](https://docs.python.org/3/tutorial/controlflow.html)"
      ]
    }
  ]
}